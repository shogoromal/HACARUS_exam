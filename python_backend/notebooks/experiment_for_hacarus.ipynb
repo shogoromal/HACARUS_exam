{
 "cells": [
  {
   "cell_type": "code",
   "execution_count": 2,
   "id": "7da9f2e3-db05-4ed3-a8de-d67313b30cac",
   "metadata": {},
   "outputs": [
    {
     "name": "stdout",
     "output_type": "stream",
     "text": [
      "   Survived  Pclass  Sex   Age   Fare\n",
      "0       NaN     3.0  NaN   NaN  42.44\n",
      "1       NaN     NaN  1.0  32.0    NaN\n",
      "2       1.0     1.0  1.0  24.0  71.28\n"
     ]
    }
   ],
   "source": [
    "#pydanticを辞書型データに変換する方法\n",
    "\n",
    "from pydantic import BaseModel\n",
    "from typing import Union\n",
    "import pandas as pd\n",
    "\n",
    "# Pydanticモデルの定義\n",
    "class PassengerData(BaseModel):\n",
    "    Survived: Union[int, None] = None\n",
    "    Pclass: Union[int, None] = None\n",
    "    Sex: Union[int, None] = None\n",
    "    Age: Union[int, None] = None\n",
    "    Fare: Union[float, None] = None\n",
    "\n",
    "# データのリストを作成\n",
    "data = [\n",
    "    PassengerData(Survived=None, Pclass=3, Sex=None, Age=None, Fare=42.44),\n",
    "    PassengerData(Survived=None, Pclass=None, Sex=1, Age=32, Fare=None),\n",
    "    PassengerData(Survived=1, Pclass=1, Sex=1, Age=24, Fare=71.28)\n",
    "]\n",
    "\n",
    "# Pydanticモデルのリストを辞書のリストに変換\n",
    "dict_list = [item.dict() for item in data]\n",
    "\n",
    "# 辞書のリストをDataFrameに変換\n",
    "df = pd.DataFrame(dict_list)\n",
    "\n",
    "# DataFrameの表示\n",
    "print(df)"
   ]
  },
  {
   "cell_type": "code",
   "execution_count": 4,
   "id": "67756515-b77b-4285-9873-e459f443a252",
   "metadata": {},
   "outputs": [
    {
     "name": "stdout",
     "output_type": "stream",
     "text": [
      "<class '__main__.PassengerData'>\n"
     ]
    }
   ],
   "source": [
    "print(type(data[0]))"
   ]
  },
  {
   "cell_type": "code",
   "execution_count": null,
   "id": "2dd405ba-b58f-4855-96c5-9a0c548862a7",
   "metadata": {},
   "outputs": [],
   "source": []
  }
 ],
 "metadata": {
  "kernelspec": {
   "display_name": "Python 3 (ipykernel)",
   "language": "python",
   "name": "python3"
  },
  "language_info": {
   "codemirror_mode": {
    "name": "ipython",
    "version": 3
   },
   "file_extension": ".py",
   "mimetype": "text/x-python",
   "name": "python",
   "nbconvert_exporter": "python",
   "pygments_lexer": "ipython3",
   "version": "3.9.19"
  }
 },
 "nbformat": 4,
 "nbformat_minor": 5
}
