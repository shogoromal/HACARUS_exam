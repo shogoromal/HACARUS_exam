{
 "cells": [
  {
   "cell_type": "markdown",
   "metadata": {
    "executionInfo": {
     "elapsed": 2509,
     "status": "ok",
     "timestamp": 1715462132797,
     "user": {
      "displayName": "吉岡尚悟",
      "userId": "17620221680818102697"
     },
     "user_tz": -540
    },
    "id": "cBdjq--_LnpR"
   },
   "source": [
    "## 各エンドポイントの説明"
   ]
  },
  {
   "cell_type": "code",
   "execution_count": 2,
   "metadata": {},
   "outputs": [],
   "source": [
    "#新たに作成したモジュールなどをimport\n",
    "import sys\n",
    "import json\n",
    "import requests\n",
    "import os\n",
    "import pandas as pd\n",
    "sys.path.append(\"../src\")\n",
    "from utils import dataframe_to_dict\n",
    "\n",
    "host_name = \"http://localhost:8081\""
   ]
  },
  {
   "cell_type": "markdown",
   "metadata": {},
   "source": [
    "## データベースをリセットする"
   ]
  },
  {
   "cell_type": "code",
   "execution_count": 13,
   "metadata": {},
   "outputs": [
    {
     "name": "stdout",
     "output_type": "stream",
     "text": [
      "b'[\"success\",\"success\",\"false\"]'\n"
     ]
    }
   ],
   "source": [
    "url = host_name + \"/reset_db\"\n",
    "res = requests.get(url)\n",
    "\n",
    "print(res.content)"
   ]
  },
  {
   "cell_type": "markdown",
   "metadata": {},
   "source": [
    "## 使用するデータを取得"
   ]
  },
  {
   "cell_type": "code",
   "execution_count": 7,
   "metadata": {
    "executionInfo": {
     "elapsed": 7,
     "status": "ok",
     "timestamp": 1715462132797,
     "user": {
      "displayName": "吉岡尚悟",
      "userId": "17620221680818102697"
     },
     "user_tz": -540
    },
    "id": "yVJ9ciPeMGk4"
   },
   "outputs": [
    {
     "ename": "NameError",
     "evalue": "name 'pd' is not defined",
     "output_type": "error",
     "traceback": [
      "\u001b[0;31m---------------------------------------------------------------------------\u001b[0m",
      "\u001b[0;31mNameError\u001b[0m                                 Traceback (most recent call last)",
      "Cell \u001b[0;32mIn[7], line 4\u001b[0m\n\u001b[1;32m      2\u001b[0m url \u001b[38;5;241m=\u001b[39m \u001b[38;5;124m\"\u001b[39m\u001b[38;5;124mhttps://raw.githubusercontent.com/datasciencedojo/datasets/master/titanic.csv\u001b[39m\u001b[38;5;124m\"\u001b[39m\n\u001b[1;32m      3\u001b[0m \u001b[38;5;66;03m# Read data from the URL\u001b[39;00m\n\u001b[0;32m----> 4\u001b[0m raw_data \u001b[38;5;241m=\u001b[39m \u001b[43mpd\u001b[49m\u001b[38;5;241m.\u001b[39mread_csv(url)\n",
      "\u001b[0;31mNameError\u001b[0m: name 'pd' is not defined"
     ]
    }
   ],
   "source": [
    "# URL to the Titanic dataset\n",
    "url = \"https://raw.githubusercontent.com/datasciencedojo/datasets/master/titanic.csv\"\n",
    "# Read data from the URL\n",
    "raw_data = pd.read_csv(url)"
   ]
  },
  {
   "cell_type": "code",
   "execution_count": 207,
   "metadata": {
    "executionInfo": {
     "elapsed": 7,
     "status": "ok",
     "timestamp": 1715462132797,
     "user": {
      "displayName": "吉岡尚悟",
      "userId": "17620221680818102697"
     },
     "user_tz": -540
    },
    "id": "PJoiggLTMcQT"
   },
   "outputs": [
    {
     "data": {
      "text/html": [
       "<div>\n",
       "<style scoped>\n",
       "    .dataframe tbody tr th:only-of-type {\n",
       "        vertical-align: middle;\n",
       "    }\n",
       "\n",
       "    .dataframe tbody tr th {\n",
       "        vertical-align: top;\n",
       "    }\n",
       "\n",
       "    .dataframe thead th {\n",
       "        text-align: right;\n",
       "    }\n",
       "</style>\n",
       "<table border=\"1\" class=\"dataframe\">\n",
       "  <thead>\n",
       "    <tr style=\"text-align: right;\">\n",
       "      <th></th>\n",
       "      <th>PassengerId</th>\n",
       "      <th>Survived</th>\n",
       "      <th>Pclass</th>\n",
       "      <th>Name</th>\n",
       "      <th>Sex</th>\n",
       "      <th>Age</th>\n",
       "      <th>SibSp</th>\n",
       "      <th>Parch</th>\n",
       "      <th>Ticket</th>\n",
       "      <th>Fare</th>\n",
       "      <th>Cabin</th>\n",
       "      <th>Embarked</th>\n",
       "    </tr>\n",
       "  </thead>\n",
       "  <tbody>\n",
       "    <tr>\n",
       "      <th>0</th>\n",
       "      <td>1</td>\n",
       "      <td>0</td>\n",
       "      <td>3</td>\n",
       "      <td>Braund, Mr. Owen Harris</td>\n",
       "      <td>male</td>\n",
       "      <td>22.0</td>\n",
       "      <td>1</td>\n",
       "      <td>0</td>\n",
       "      <td>A/5 21171</td>\n",
       "      <td>7.2500</td>\n",
       "      <td>NaN</td>\n",
       "      <td>S</td>\n",
       "    </tr>\n",
       "    <tr>\n",
       "      <th>1</th>\n",
       "      <td>2</td>\n",
       "      <td>1</td>\n",
       "      <td>1</td>\n",
       "      <td>Cumings, Mrs. John Bradley (Florence Briggs Th...</td>\n",
       "      <td>female</td>\n",
       "      <td>38.0</td>\n",
       "      <td>1</td>\n",
       "      <td>0</td>\n",
       "      <td>PC 17599</td>\n",
       "      <td>71.2833</td>\n",
       "      <td>C85</td>\n",
       "      <td>C</td>\n",
       "    </tr>\n",
       "  </tbody>\n",
       "</table>\n",
       "</div>"
      ],
      "text/plain": [
       "   PassengerId  Survived  Pclass  \\\n",
       "0            1         0       3   \n",
       "1            2         1       1   \n",
       "\n",
       "                                                Name     Sex   Age  SibSp  \\\n",
       "0                            Braund, Mr. Owen Harris    male  22.0      1   \n",
       "1  Cumings, Mrs. John Bradley (Florence Briggs Th...  female  38.0      1   \n",
       "\n",
       "   Parch     Ticket     Fare Cabin Embarked  \n",
       "0      0  A/5 21171   7.2500   NaN        S  \n",
       "1      0   PC 17599  71.2833   C85        C  "
      ]
     },
     "execution_count": 207,
     "metadata": {},
     "output_type": "execute_result"
    }
   ],
   "source": [
    "raw_data[0:2]"
   ]
  },
  {
   "cell_type": "markdown",
   "metadata": {},
   "source": [
    "## データフレームを辞書型に変換する\n",
    "\n",
    "空白があるデータなどは除外する"
   ]
  },
  {
   "cell_type": "code",
   "execution_count": 208,
   "metadata": {
    "executionInfo": {
     "elapsed": 7,
     "status": "ok",
     "timestamp": 1715462132797,
     "user": {
      "displayName": "吉岡尚悟",
      "userId": "17620221680818102697"
     },
     "user_tz": -540
    },
    "id": "6acg3EVBMcGb"
   },
   "outputs": [
    {
     "name": "stdout",
     "output_type": "stream",
     "text": [
      "~~~~成功例~~~~\n",
      "[{'Survived': 0, 'Pclass': 3, 'Sex': 'male', 'Age': 22.0, 'Fare': 7.25}, {'Survived': 1, 'Pclass': 1, 'Sex': 'female', 'Age': 38.0, 'Fare': 71.2833}]\n",
      "~~~~失敗例~~~~~\n",
      "\"None of [Index(['Survived', 'Pclass', 'Sex', 'Age', 'Fare'], dtype='object')] are in the [index]\"\n",
      "正しいデータ形式ではありません。\n"
     ]
    }
   ],
   "source": [
    "success_result_dict = dataframe_to_dict(raw_data[0:2])\n",
    "print('~~~~成功例~~~~')\n",
    "print(success_result_dict)\n",
    "\n",
    "#['Survived', 'Pclass', 'Sex', 'Age', 'Fare']の項目が揃っていないデータはエラーを返す\n",
    "print('~~~~失敗例~~~~~')\n",
    "false_result_dict = dataframe_to_dict(raw_data[0:2]['Name'])\n",
    "print(false_result_dict)"
   ]
  },
  {
   "cell_type": "markdown",
   "metadata": {},
   "source": [
    "## データベースにデータの登録を行う"
   ]
  },
  {
   "cell_type": "code",
   "execution_count": 1,
   "metadata": {},
   "outputs": [
    {
     "ename": "NameError",
     "evalue": "name 'dataframe_to_dict' is not defined",
     "output_type": "error",
     "traceback": [
      "\u001b[0;31m---------------------------------------------------------------------------\u001b[0m",
      "\u001b[0;31mNameError\u001b[0m                                 Traceback (most recent call last)",
      "Cell \u001b[0;32mIn[1], line 2\u001b[0m\n\u001b[1;32m      1\u001b[0m \u001b[38;5;66;03m#データを辞書型のリストに変換する\u001b[39;00m\n\u001b[0;32m----> 2\u001b[0m result_dict \u001b[38;5;241m=\u001b[39m \u001b[43mdataframe_to_dict\u001b[49m(raw_data[\u001b[38;5;241m0\u001b[39m:\u001b[38;5;241m1000\u001b[39m],mode\u001b[38;5;241m=\u001b[39m\u001b[38;5;124m'\u001b[39m\u001b[38;5;124msex_to_num\u001b[39m\u001b[38;5;124m'\u001b[39m)\n\u001b[1;32m      4\u001b[0m \u001b[38;5;66;03m#データをデータベースに登録する\u001b[39;00m\n\u001b[1;32m      5\u001b[0m url \u001b[38;5;241m=\u001b[39m host_name \u001b[38;5;241m+\u001b[39m \u001b[38;5;124m\"\u001b[39m\u001b[38;5;124m/upload_data\u001b[39m\u001b[38;5;124m\"\u001b[39m\n",
      "\u001b[0;31mNameError\u001b[0m: name 'dataframe_to_dict' is not defined"
     ]
    }
   ],
   "source": [
    "#データを辞書型のリストに変換する\n",
    "result_dict = dataframe_to_dict(raw_data[0:1000],mode='sex_to_num')\n",
    "\n",
    "#データをデータベースに登録する\n",
    "url = host_name + \"/upload_data\"\n",
    "res = requests.post(url, json=result_dict)\n",
    "\n",
    "print(res.content)"
   ]
  },
  {
   "cell_type": "markdown",
   "metadata": {},
   "source": [
    "## データベースからデータを取得する"
   ]
  },
  {
   "cell_type": "code",
   "execution_count": 8,
   "metadata": {
    "executionInfo": {
     "elapsed": 7,
     "status": "ok",
     "timestamp": 1715462132798,
     "user": {
      "displayName": "吉岡尚悟",
      "userId": "17620221680818102697"
     },
     "user_tz": -540
    },
    "id": "PkdyulJEMSJs"
   },
   "outputs": [
    {
     "data": {
      "text/html": [
       "<div>\n",
       "<style scoped>\n",
       "    .dataframe tbody tr th:only-of-type {\n",
       "        vertical-align: middle;\n",
       "    }\n",
       "\n",
       "    .dataframe tbody tr th {\n",
       "        vertical-align: top;\n",
       "    }\n",
       "\n",
       "    .dataframe thead th {\n",
       "        text-align: right;\n",
       "    }\n",
       "</style>\n",
       "<table border=\"1\" class=\"dataframe\">\n",
       "  <thead>\n",
       "    <tr style=\"text-align: right;\">\n",
       "      <th></th>\n",
       "      <th>data_id</th>\n",
       "      <th>survived</th>\n",
       "      <th>sex</th>\n",
       "      <th>fare</th>\n",
       "      <th>pclass</th>\n",
       "      <th>upload_date</th>\n",
       "      <th>age</th>\n",
       "    </tr>\n",
       "  </thead>\n",
       "  <tbody>\n",
       "    <tr>\n",
       "      <th>0</th>\n",
       "      <td>1</td>\n",
       "      <td>1</td>\n",
       "      <td>0</td>\n",
       "      <td>8.5167</td>\n",
       "      <td>3</td>\n",
       "      <td>2024-05-19T18:53:54</td>\n",
       "      <td>0</td>\n",
       "    </tr>\n",
       "    <tr>\n",
       "      <th>1</th>\n",
       "      <td>2</td>\n",
       "      <td>1</td>\n",
       "      <td>0</td>\n",
       "      <td>14.5000</td>\n",
       "      <td>2</td>\n",
       "      <td>2024-05-19T18:53:54</td>\n",
       "      <td>0</td>\n",
       "    </tr>\n",
       "    <tr>\n",
       "      <th>2</th>\n",
       "      <td>3</td>\n",
       "      <td>1</td>\n",
       "      <td>1</td>\n",
       "      <td>19.2583</td>\n",
       "      <td>3</td>\n",
       "      <td>2024-05-19T18:53:54</td>\n",
       "      <td>0</td>\n",
       "    </tr>\n",
       "    <tr>\n",
       "      <th>3</th>\n",
       "      <td>4</td>\n",
       "      <td>1</td>\n",
       "      <td>1</td>\n",
       "      <td>19.2583</td>\n",
       "      <td>3</td>\n",
       "      <td>2024-05-19T18:53:54</td>\n",
       "      <td>0</td>\n",
       "    </tr>\n",
       "  </tbody>\n",
       "</table>\n",
       "</div>"
      ],
      "text/plain": [
       "   data_id  survived  sex     fare  pclass          upload_date  age\n",
       "0        1         1    0   8.5167       3  2024-05-19T18:53:54    0\n",
       "1        2         1    0  14.5000       2  2024-05-19T18:53:54    0\n",
       "2        3         1    1  19.2583       3  2024-05-19T18:53:54    0\n",
       "3        4         1    1  19.2583       3  2024-05-19T18:53:54    0"
      ]
     },
     "execution_count": 8,
     "metadata": {},
     "output_type": "execute_result"
    }
   ],
   "source": [
    "#DBからデータを取得する\n",
    "url = host_name + \"/get_data\"\n",
    "data_index={'start_index':1,'end_index':5}#取得するindexの範囲を指定する\n",
    "res = requests.post(url, json=data_index)\n",
    "\n",
    "#resはバイナリデータで返される, decodeで文字列に変換\n",
    "#その後、{}で囲まれた部分を、json.loads()で辞書型データに変換\n",
    "data_list = json.loads(res.content.decode('utf-8'))\n",
    "df = pd.DataFrame(data_list)\n",
    "df"
   ]
  },
  {
   "cell_type": "markdown",
   "metadata": {},
   "source": [
    "## 新しいモデルの作成\n",
    "\n",
    "指定したindexの範囲のデータを利用してトレーニングを行う"
   ]
  },
  {
   "cell_type": "code",
   "execution_count": 212,
   "metadata": {},
   "outputs": [
    {
     "name": "stdout",
     "output_type": "stream",
     "text": [
      "{'transaction_result': 'success'}\n"
     ]
    }
   ],
   "source": [
    "data = {'start_index':0, 'end_index':150, 'my_model_name':'new_test'}#トレーニングに使うindexの範囲を指定する\n",
    "url = host_name + \"/train_new_model\"\n",
    "res = requests.post(url, json=data)\n",
    "\n",
    "data_list = json.loads(res.content.decode('utf-8'))\n",
    "print(data_list)"
   ]
  },
  {
   "cell_type": "markdown",
   "metadata": {},
   "source": [
    "## データベースからモデルの情報を取得する\n",
    "\n",
    "model_id に -1を指定するとすべてのモデルデータが取得できる"
   ]
  },
  {
   "cell_type": "code",
   "execution_count": 213,
   "metadata": {},
   "outputs": [
    {
     "data": {
      "text/html": [
       "<div>\n",
       "<style scoped>\n",
       "    .dataframe tbody tr th:only-of-type {\n",
       "        vertical-align: middle;\n",
       "    }\n",
       "\n",
       "    .dataframe tbody tr th {\n",
       "        vertical-align: top;\n",
       "    }\n",
       "\n",
       "    .dataframe thead th {\n",
       "        text-align: right;\n",
       "    }\n",
       "</style>\n",
       "<table border=\"1\" class=\"dataframe\">\n",
       "  <thead>\n",
       "    <tr style=\"text-align: right;\">\n",
       "      <th></th>\n",
       "      <th>pclass_coef</th>\n",
       "      <th>model_version_id</th>\n",
       "      <th>age_coef</th>\n",
       "      <th>training_iteration</th>\n",
       "      <th>my_model_name</th>\n",
       "      <th>sex_coef</th>\n",
       "      <th>training_date</th>\n",
       "      <th>fare_coef</th>\n",
       "    </tr>\n",
       "  </thead>\n",
       "  <tbody>\n",
       "    <tr>\n",
       "      <th>0</th>\n",
       "      <td>-1.01682</td>\n",
       "      <td>1</td>\n",
       "      <td>-0.040715</td>\n",
       "      <td>40</td>\n",
       "      <td>new_test</td>\n",
       "      <td>2.34646</td>\n",
       "      <td>2024-05-19T18:04:10</td>\n",
       "      <td>-0.008878</td>\n",
       "    </tr>\n",
       "  </tbody>\n",
       "</table>\n",
       "</div>"
      ],
      "text/plain": [
       "   pclass_coef  model_version_id  age_coef  training_iteration my_model_name  \\\n",
       "0     -1.01682                 1 -0.040715                  40      new_test   \n",
       "\n",
       "   sex_coef        training_date  fare_coef  \n",
       "0   2.34646  2024-05-19T18:04:10  -0.008878  "
      ]
     },
     "execution_count": 213,
     "metadata": {},
     "output_type": "execute_result"
    }
   ],
   "source": [
    "data = {'version_id_1' : -1}\n",
    "url = host_name + \"/get_model\"\n",
    "res = requests.post(url, json=data)\n",
    "\n",
    "data_list = json.loads(res.content.decode('utf-8'))\n",
    "df = pd.DataFrame(data_list[0])\n",
    "df"
   ]
  },
  {
   "cell_type": "markdown",
   "metadata": {},
   "source": [
    "## モデルを評価する\n",
    "\n",
    "version_id -> ２つのidを指定して、modelの比較ができる。idの指定は１つでも可能。\n",
    "\n",
    "start(end)_index -> 指定した範囲のデータに対しての推論結果などを表示する"
   ]
  },
  {
   "cell_type": "code",
   "execution_count": 220,
   "metadata": {},
   "outputs": [],
   "source": [
    "data = {'version_id_1' : 1,'version_id_2' : 2,'start_index':0, 'end_index':150}\n",
    "url = host_name + \"/evaluate_model\"\n",
    "res = requests.post(url, json=data)"
   ]
  },
  {
   "cell_type": "code",
   "execution_count": null,
   "metadata": {},
   "outputs": [],
   "source": []
  }
 ],
 "metadata": {
  "colab": {
   "authorship_tag": "ABX9TyPdStxSyAr6fPe98qDBLzg1",
   "provenance": []
  },
  "kernelspec": {
   "display_name": "Python 3 (ipykernel)",
   "language": "python",
   "name": "python3"
  },
  "language_info": {
   "codemirror_mode": {
    "name": "ipython",
    "version": 3
   },
   "file_extension": ".py",
   "mimetype": "text/x-python",
   "name": "python",
   "nbconvert_exporter": "python",
   "pygments_lexer": "ipython3",
   "version": "3.9.19"
  }
 },
 "nbformat": 4,
 "nbformat_minor": 4
}
